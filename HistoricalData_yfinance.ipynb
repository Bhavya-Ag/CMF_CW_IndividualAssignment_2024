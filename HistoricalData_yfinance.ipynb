{
 "cells": [
  {
   "cell_type": "code",
   "execution_count": 10,
   "id": "617ce7a6-7076-4382-ab23-203d4f590c2f",
   "metadata": {
    "scrolled": true
   },
   "outputs": [
    {
     "name": "stdout",
     "output_type": "stream",
     "text": [
      "Defaulting to user installation because normal site-packages is not writeable\n",
      "Looking in links: /usr/share/pip-wheels\n",
      "Requirement already satisfied: yfinance in /home/cca8a084-5780-45ba-af11-936a13047910/.local/lib/python3.11/site-packages (0.2.48)\n",
      "Requirement already satisfied: pandas>=1.3.0 in /opt/conda/envs/anaconda-panel-2023.05-py310/lib/python3.11/site-packages (from yfinance) (2.0.3)\n",
      "Requirement already satisfied: numpy>=1.16.5 in /opt/conda/envs/anaconda-panel-2023.05-py310/lib/python3.11/site-packages (from yfinance) (1.24.3)\n",
      "Requirement already satisfied: requests>=2.31 in /opt/conda/envs/anaconda-panel-2023.05-py310/lib/python3.11/site-packages (from yfinance) (2.31.0)\n",
      "Requirement already satisfied: multitasking>=0.0.7 in /home/cca8a084-5780-45ba-af11-936a13047910/.local/lib/python3.11/site-packages (from yfinance) (0.0.11)\n",
      "Requirement already satisfied: lxml>=4.9.1 in /opt/conda/envs/anaconda-panel-2023.05-py310/lib/python3.11/site-packages (from yfinance) (4.9.3)\n",
      "Requirement already satisfied: platformdirs>=2.0.0 in /opt/conda/envs/anaconda-panel-2023.05-py310/lib/python3.11/site-packages (from yfinance) (3.10.0)\n",
      "Requirement already satisfied: pytz>=2022.5 in /opt/conda/envs/anaconda-panel-2023.05-py310/lib/python3.11/site-packages (from yfinance) (2023.3.post1)\n",
      "Requirement already satisfied: frozendict>=2.3.4 in /home/cca8a084-5780-45ba-af11-936a13047910/.local/lib/python3.11/site-packages (from yfinance) (2.4.6)\n",
      "Requirement already satisfied: peewee>=3.16.2 in /home/cca8a084-5780-45ba-af11-936a13047910/.local/lib/python3.11/site-packages (from yfinance) (3.17.7)\n",
      "Requirement already satisfied: beautifulsoup4>=4.11.1 in /opt/conda/envs/anaconda-panel-2023.05-py310/lib/python3.11/site-packages (from yfinance) (4.12.2)\n",
      "Requirement already satisfied: html5lib>=1.1 in /home/cca8a084-5780-45ba-af11-936a13047910/.local/lib/python3.11/site-packages (from yfinance) (1.1)\n",
      "Requirement already satisfied: soupsieve>1.2 in /opt/conda/envs/anaconda-panel-2023.05-py310/lib/python3.11/site-packages (from beautifulsoup4>=4.11.1->yfinance) (2.4)\n",
      "Requirement already satisfied: six>=1.9 in /opt/conda/envs/anaconda-panel-2023.05-py310/lib/python3.11/site-packages (from html5lib>=1.1->yfinance) (1.16.0)\n",
      "Requirement already satisfied: webencodings in /opt/conda/envs/anaconda-panel-2023.05-py310/lib/python3.11/site-packages (from html5lib>=1.1->yfinance) (0.5.1)\n",
      "Requirement already satisfied: python-dateutil>=2.8.2 in /opt/conda/envs/anaconda-panel-2023.05-py310/lib/python3.11/site-packages (from pandas>=1.3.0->yfinance) (2.8.2)\n",
      "Requirement already satisfied: tzdata>=2022.1 in /opt/conda/envs/anaconda-panel-2023.05-py310/lib/python3.11/site-packages (from pandas>=1.3.0->yfinance) (2023.3)\n",
      "Requirement already satisfied: charset-normalizer<4,>=2 in /opt/conda/envs/anaconda-panel-2023.05-py310/lib/python3.11/site-packages (from requests>=2.31->yfinance) (2.0.4)\n",
      "Requirement already satisfied: idna<4,>=2.5 in /opt/conda/envs/anaconda-panel-2023.05-py310/lib/python3.11/site-packages (from requests>=2.31->yfinance) (3.4)\n",
      "Requirement already satisfied: urllib3<3,>=1.21.1 in /opt/conda/envs/anaconda-panel-2023.05-py310/lib/python3.11/site-packages (from requests>=2.31->yfinance) (1.26.16)\n",
      "Requirement already satisfied: certifi>=2017.4.17 in /opt/conda/envs/anaconda-panel-2023.05-py310/lib/python3.11/site-packages (from requests>=2.31->yfinance) (2023.7.22)\n"
     ]
    },
    {
     "name": "stderr",
     "output_type": "stream",
     "text": [
      "[*********************100%***********************]  2 of 2 completed"
     ]
    },
    {
     "name": "stdout",
     "output_type": "stream",
     "text": [
      "Price                         Adj Close                Close              \\\n",
      "Ticker                            AZN.L      HSBA.L    AZN.L      HSBA.L   \n",
      "Date                                                                       \n",
      "2022-11-11 00:00:00+00:00  10158.076172  392.963135  10598.0  470.200012   \n",
      "2022-11-14 00:00:00+00:00  10416.867188  401.404083  10868.0  480.299988   \n",
      "2022-11-15 00:00:00+00:00  10351.691406  401.153381  10800.0  480.000000   \n",
      "2022-11-16 00:00:00+00:00  10301.850586  397.392578  10748.0  475.500000   \n",
      "2022-11-17 00:00:00+00:00  10365.109375  402.156281  10814.0  481.200012   \n",
      "\n",
      "Price                         High                  Low                 Open  \\\n",
      "Ticker                       AZN.L      HSBA.L    AZN.L      HSBA.L    AZN.L   \n",
      "Date                                                                           \n",
      "2022-11-11 00:00:00+00:00  11028.0  476.600006  10598.0  469.649994  11006.0   \n",
      "2022-11-14 00:00:00+00:00  10968.0  483.000000  10542.0  471.299988  10576.0   \n",
      "2022-11-15 00:00:00+00:00  11010.0  483.899994  10780.0  475.950012  10868.0   \n",
      "2022-11-16 00:00:00+00:00  10860.0  479.899994  10732.0  473.950012  10844.0   \n",
      "2022-11-17 00:00:00+00:00  10818.0  481.399994  10695.0  471.299988  10758.0   \n",
      "\n",
      "Price                                   Volume            \n",
      "Ticker                         HSBA.L    AZN.L    HSBA.L  \n",
      "Date                                                      \n",
      "2022-11-11 00:00:00+00:00  472.250000  2913259  23946629  \n",
      "2022-11-14 00:00:00+00:00  472.750000  2163702  18085476  \n",
      "2022-11-15 00:00:00+00:00  482.500000  1634491  19489207  \n",
      "2022-11-16 00:00:00+00:00  478.100006  2124542  16851839  \n",
      "2022-11-17 00:00:00+00:00  476.899994  1234336  14773800  \n",
      "Price                         Adj Close                Close              \\\n",
      "Ticker                            AZN.L      HSBA.L    AZN.L      HSBA.L   \n",
      "Date                                                                       \n",
      "2022-11-11 00:00:00+00:00  10158.076172  392.963135  10598.0  470.200012   \n",
      "2022-11-14 00:00:00+00:00  10416.867188  401.404083  10868.0  480.299988   \n",
      "2022-11-15 00:00:00+00:00  10351.691406  401.153381  10800.0  480.000000   \n",
      "2022-11-16 00:00:00+00:00  10301.850586  397.392578  10748.0  475.500000   \n",
      "2022-11-17 00:00:00+00:00  10365.109375  402.156281  10814.0  481.200012   \n",
      "...                                 ...         ...      ...         ...   \n",
      "2024-11-04 00:00:00+00:00  11042.000000  707.789734  11042.0  717.700012   \n",
      "2024-11-05 00:00:00+00:00  10114.000000  712.424866  10114.0  722.400024   \n",
      "2024-11-06 00:00:00+00:00   9922.000000  714.200012   9922.0  724.200012   \n",
      "2024-11-07 00:00:00+00:00   9725.000000  715.599976   9725.0  715.599976   \n",
      "2024-11-08 00:00:00+00:00   9903.000000  690.000000   9903.0  690.000000   \n",
      "\n",
      "Price                         High                  Low                 Open  \\\n",
      "Ticker                       AZN.L      HSBA.L    AZN.L      HSBA.L    AZN.L   \n",
      "Date                                                                           \n",
      "2022-11-11 00:00:00+00:00  11028.0  476.600006  10598.0  469.649994  11006.0   \n",
      "2022-11-14 00:00:00+00:00  10968.0  483.000000  10542.0  471.299988  10576.0   \n",
      "2022-11-15 00:00:00+00:00  11010.0  483.899994  10780.0  475.950012  10868.0   \n",
      "2022-11-16 00:00:00+00:00  10860.0  479.899994  10732.0  473.950012  10844.0   \n",
      "2022-11-17 00:00:00+00:00  10818.0  481.399994  10695.0  471.299988  10758.0   \n",
      "...                            ...         ...      ...         ...      ...   \n",
      "2024-11-04 00:00:00+00:00  11342.0  721.216003  10930.0  711.200012  11016.0   \n",
      "2024-11-05 00:00:00+00:00  11052.0  722.400024  10010.0  715.099976  11044.0   \n",
      "2024-11-06 00:00:00+00:00  10380.0  729.599976   9869.0  719.500000  10330.0   \n",
      "2024-11-07 00:00:00+00:00   9900.0  723.299988   9670.0  714.700012   9891.0   \n",
      "2024-11-08 00:00:00+00:00  10008.0  713.168030   9806.0  689.599976   9846.0   \n",
      "\n",
      "Price                                   Volume            \n",
      "Ticker                         HSBA.L    AZN.L    HSBA.L  \n",
      "Date                                                      \n",
      "2022-11-11 00:00:00+00:00  472.250000  2913259  23946629  \n",
      "2022-11-14 00:00:00+00:00  472.750000  2163702  18085476  \n",
      "2022-11-15 00:00:00+00:00  482.500000  1634491  19489207  \n",
      "2022-11-16 00:00:00+00:00  478.100006  2124542  16851839  \n",
      "2022-11-17 00:00:00+00:00  476.899994  1234336  14773800  \n",
      "...                               ...      ...       ...  \n",
      "2024-11-04 00:00:00+00:00  711.700012  2433650  16376922  \n",
      "2024-11-05 00:00:00+00:00  717.400024  4440784  49440052  \n",
      "2024-11-06 00:00:00+00:00  719.700012  7726112  20818302  \n",
      "2024-11-07 00:00:00+00:00  720.000000  8032972  46222367  \n",
      "2024-11-08 00:00:00+00:00  711.799988  4062390  22518252  \n",
      "\n",
      "[504 rows x 12 columns]\n"
     ]
    },
    {
     "name": "stderr",
     "output_type": "stream",
     "text": [
      "\n"
     ]
    }
   ],
   "source": [
    "# Installing yfinance \n",
    "!pip install yfinance\n",
    "\n",
    "# Import necessary libraries\n",
    "import yfinance as yf\n",
    "import pandas as pd\n",
    "from datetime import datetime, timedelta\n",
    "\n",
    "# Define the ticker symbols for HSBC and AstraZeneca\n",
    "tickers = ['HSBA.L', 'AZN.L']\n",
    "\n",
    "# Calculate the start date (two years ago from today) and today's date\n",
    "end_date = datetime.today().strftime('%Y-%m-%d')\n",
    "start_date = (datetime.today() - timedelta(days=2*365)).strftime('%Y-%m-%d')\n",
    "\n",
    "# Download historical data for the past two years until today\n",
    "data = yf.download(tickers, start=start_date, end=end_date)\n",
    "\n",
    "# Display the first few rows of the downloaded data to verify\n",
    "print(data.head())\n",
    "\n",
    "# Save the data to a CSV file for further use if needed\n",
    "data.to_csv('HSBC_AstraZeneca_2years_data.csv')\n",
    "\n",
    "# Alternatively, display the data in a formatted table (Pandas Data Frame)\n",
    "print(data)\n"
   ]
  }
 ],
 "metadata": {
  "kernelspec": {
   "display_name": "anaconda-panel-2023.05-py310",
   "language": "python",
   "name": "conda-env-anaconda-panel-2023.05-py310-py"
  },
  "language_info": {
   "codemirror_mode": {
    "name": "ipython",
    "version": 3
   },
   "file_extension": ".py",
   "mimetype": "text/x-python",
   "name": "python",
   "nbconvert_exporter": "python",
   "pygments_lexer": "ipython3",
   "version": "3.11.5"
  }
 },
 "nbformat": 4,
 "nbformat_minor": 5
}
