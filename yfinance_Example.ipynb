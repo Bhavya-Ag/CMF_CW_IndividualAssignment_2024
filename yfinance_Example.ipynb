{
 "cells": [
  {
   "cell_type": "code",
   "execution_count": 2,
   "id": "40e76f0d-5856-4031-96dc-e553790c19ca",
   "metadata": {},
   "outputs": [
    {
     "name": "stdout",
     "output_type": "stream",
     "text": [
      "Price                       Adj Close       Close        High         Low  \\\n",
      "Ticker                           AAPL        AAPL        AAPL        AAPL   \n",
      "Date                                                                        \n",
      "2023-01-03 00:00:00+00:00  123.768463  125.070000  130.899994  124.169998   \n",
      "2023-01-04 00:00:00+00:00  125.045036  126.360001  128.660004  125.080002   \n",
      "\n",
      "Price                            Open     Volume  \n",
      "Ticker                           AAPL       AAPL  \n",
      "Date                                              \n",
      "2023-01-03 00:00:00+00:00  130.279999  112117500  \n",
      "2023-01-04 00:00:00+00:00  126.889999   89113600  \n"
     ]
    }
   ],
   "source": [
    "import yfinance as yf\n",
    "\n",
    "# Fetch historical stock data for Apple (AAPL)\n",
    "symbol = 'AAPL'\n",
    "stock_data = yf.download(symbol, start='2023-01-01', end='2023-01-05', progress=False)\n",
    "\n",
    "# Display the first few rows of the dataset\n",
    "print(stock_data.head())"
   ]
  }
 ],
 "metadata": {
  "kernelspec": {
   "display_name": "anaconda-panel-2023.05-py310",
   "language": "python",
   "name": "conda-env-anaconda-panel-2023.05-py310-py"
  },
  "language_info": {
   "codemirror_mode": {
    "name": "ipython",
    "version": 3
   },
   "file_extension": ".py",
   "mimetype": "text/x-python",
   "name": "python",
   "nbconvert_exporter": "python",
   "pygments_lexer": "ipython3",
   "version": "3.11.5"
  }
 },
 "nbformat": 4,
 "nbformat_minor": 5
}
