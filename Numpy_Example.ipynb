{
 "cells": [
  {
   "cell_type": "code",
   "execution_count": 3,
   "id": "a55f4a4b-f21a-47a1-af0f-d1f6041d060a",
   "metadata": {},
   "outputs": [
    {
     "name": "stdout",
     "output_type": "stream",
     "text": [
      "Average Daily Return: 0.001000\n",
      "Portfolio Standard Deviation: 0.001711\n",
      "Daily Sharpe Ratio: 0.467479\n",
      "Annualized Sharpe Ratio: 7.420999\n"
     ]
    }
   ],
   "source": [
    "import numpy as np\n",
    "\n",
    "# Sample daily returns data for a portfolio and risk-free rate\n",
    "portfolio_returns = np.array([0.001, -0.002, 0.003, 0.0015, -0.001, 0.002, 0.0025])\n",
    "risk_free_rate = 0.0002  # Daily risk-free rate\n",
    "\n",
    "# Calculate the average daily return of the portfolio\n",
    "avg_return = np.mean(portfolio_returns)\n",
    "\n",
    "# Calculate the standard deviation of daily returns (portfolio volatility)\n",
    "portfolio_std_dev = np.std(portfolio_returns)\n",
    "\n",
    "# Calculate the Sharpe ratio\n",
    "sharpe_ratio = (avg_return - risk_free_rate) / portfolio_std_dev\n",
    "\n",
    "# Annualize the Sharpe ratio (assuming 252 trading days in a year)\n",
    "annualized_sharpe_ratio = sharpe_ratio * np.sqrt(252)\n",
    "\n",
    "print(f\"Average Daily Return: {avg_return:.6f}\")\n",
    "print(f\"Portfolio Standard Deviation: {portfolio_std_dev:.6f}\")\n",
    "print(f\"Daily Sharpe Ratio: {sharpe_ratio:.6f}\")\n",
    "print(f\"Annualized Sharpe Ratio: {annualized_sharpe_ratio:.6f}\")"
   ]
  }
 ],
 "metadata": {
  "kernelspec": {
   "display_name": "anaconda-panel-2023.05-py310",
   "language": "python",
   "name": "conda-env-anaconda-panel-2023.05-py310-py"
  },
  "language_info": {
   "codemirror_mode": {
    "name": "ipython",
    "version": 3
   },
   "file_extension": ".py",
   "mimetype": "text/x-python",
   "name": "python",
   "nbconvert_exporter": "python",
   "pygments_lexer": "ipython3",
   "version": "3.11.5"
  }
 },
 "nbformat": 4,
 "nbformat_minor": 5
}
